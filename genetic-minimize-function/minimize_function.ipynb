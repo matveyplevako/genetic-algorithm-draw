{
 "cells": [
  {
   "cell_type": "code",
   "execution_count": 1,
   "metadata": {},
   "outputs": [],
   "source": [
    "import numpy as np\n",
    "import itertools\n",
    "import random\n",
    "from matplotlib import pyplot as plt\n",
    "from collections import defaultdict\n",
    "import os\n",
    "import shutil\n",
    "\n",
    "INITIAL_GENES = 20\n",
    "INITIAL_NUMBER_OF_WEIGHTS = 1"
   ]
  },
  {
   "cell_type": "code",
   "execution_count": 2,
   "metadata": {},
   "outputs": [],
   "source": [
    "def fitness_function(x_s, y_s, coefficients):\n",
    "    difference = y_s\n",
    "    for i in range(len(coefficients)):\n",
    "        difference = difference - (x_s ** i) * coefficients[i]\n",
    "\n",
    "    return np.sum(difference ** 2)\n",
    "    # return np.sum(difference ** 2) + sum([coefficient ** 2 for coefficient in coefficients]) + len(coefficients)\n",
    "\n",
    "\n",
    "def cal_pop_fitness(x_s, y_s, pop):\n",
    "    qualities = {}\n",
    "    for chromosome in pop:\n",
    "        qualities[tuple(chromosome)] = fitness_function(x_s, y_s, chromosome)\n",
    "    return qualities\n",
    "\n",
    "\n",
    "def initial_population():\n",
    "    init_population = []\n",
    "    for indv_num in range(INITIAL_GENES):\n",
    "        init_population.append([np.random.standard_normal() * 10 for _ in range(INITIAL_NUMBER_OF_WEIGHTS)])\n",
    "    return init_population\n",
    "\n",
    "\n",
    "def select_mating_pool(population, x_s, y_s, num_parents):\n",
    "    parents = sorted(population, key=lambda x: fitness_function(x_s, y_s, x))[:num_parents]\n",
    "    return parents\n",
    "\n",
    "\n",
    "def crossover(parents, n_individuals=150):\n",
    "    new_population = parents[:]\n",
    "    num_newly_generated = n_individuals - len(parents)\n",
    "    parents_permutations = list(itertools.permutations(iterable=range(0, len(parents)), r=2))\n",
    "    selected_permutations = random.sample(range(len(parents_permutations)),\n",
    "                                          num_newly_generated)\n",
    "\n",
    "    for comb in range(len(selected_permutations)):\n",
    "        selected_comb_idx = selected_permutations[comb]\n",
    "        selected_comb = parents_permutations[selected_comb_idx]\n",
    "        first_chromosome = parents[selected_comb[0]][:]\n",
    "        second_chromosome = parents[selected_comb[1]][:]\n",
    "\n",
    "        min_c, max_c = sorted([first_chromosome, second_chromosome], key=len)\n",
    "        new_chromosome = max_c\n",
    "        new_chromosome[:len(max_c) // 2] = min_c[:len(max_c) // 2]\n",
    "        new_population.append(new_chromosome)\n",
    "\n",
    "    return new_population\n",
    "\n",
    "\n",
    "def mutation(population, num_parents_mating):\n",
    "    for idx in range(num_parents_mating, len(population)):\n",
    "\n",
    "        change = np.random.standard_normal() * 3\n",
    "        if random.randint(0, 20) == 0:\n",
    "            population[idx] = population[idx] + [change]\n",
    "        else:\n",
    "            gene_to_change = random.randint(0, len(population[idx]) - 1)\n",
    "            population[idx][gene_to_change] = population[idx][gene_to_change] + change\n",
    "\n",
    "    return population"
   ]
  },
  {
   "cell_type": "code",
   "execution_count": 3,
   "metadata": {},
   "outputs": [
    {
     "name": "stdout",
     "output_type": "stream",
     "text": [
      "Error :  0.9403613883757533 , Iteration :  1000 , Weights :  [0.21230106261591158, 5.0275543597153876, 5.06783017740615, 0.5828262747824438, -0.20355121149097988, 0.03244690414851135, -0.002142367984715509, 0.0005320945579769477]\n",
      "Error :  0.3013696509357546 , Iteration :  2000 , Weights :  [0.03735622014844658, 5.160214998848696, 5.381339125561576, 0.5851049067616169, -0.20900939197186225, 0.038154592235746736, -0.0037989183785078436, 0.0006796907449943634]\n",
      "Error :  0.2341557638457688 , Iteration :  3000 , Weights :  [-0.10572254758256881, 5.188927989059678, 5.48103170345701, 0.6047917849701833, -0.20943554912412593, 0.03873618107576423, -0.0037989183785078436, 0.0006796907449943634]\n",
      "Error :  0.22017886156572092 , Iteration :  4000 , Weights :  [-0.12002371231676165, 5.188927989059678, 5.50437998448221, 0.6047917849701833, -0.21068882154314975, 0.03927814800179576, -0.0037989183785078436, 0.0006796907449943634]\n",
      "Error :  0.21534127860813673 , Iteration :  5000 , Weights :  [-0.1400849362249325, 5.212358145700141, 5.514160084167374, 0.6047917849701833, -0.2097909744061496, 0.03962281627396393, -0.0037989183785078436, 0.0006796907449943634]\n",
      "Error :  0.2003984257860397 , Iteration :  6000 , Weights :  [-0.17982309263623114, 5.208051776975145, 5.558375194243814, 0.6099117570702929, -0.21153063421072119, 0.04025963243346825, -0.0037989183785078436, 0.0006796907449943634]\n",
      "Error :  0.19101307947904667 , Iteration :  7000 , Weights :  [-0.17982309263623114, 5.223246936144508, 5.573328801318066, 0.6099117570702929, -0.21153063421072119, 0.041046801063118026, -0.0037989183785078436, 0.0006796907449943634]\n",
      "Error :  0.19090747533852154 , Iteration :  8000 , Weights :  [-0.18731129204204292, 5.218579280434389, 5.576004608022907, 0.6112109187329005, -0.21153063421072119, 0.041046801063118026, -0.0037989183785078436, 0.0006796907449943634]\n",
      "Error :  0.19031693447962297 , Iteration :  9000 , Weights :  [-0.18731129204204292, 5.212068086316328, 5.576004608022907, 0.6112109187329005, -0.2120386942027678, 0.041046801063118026, -0.0037989183785078436, 0.0006796907449943634]\n"
     ]
    }
   ],
   "source": [
    "num_parents = 20\n",
    "\n",
    "x_s = np.array([-2.7, -2, -1, 0, 1])\n",
    "y_s = np.array([-5.05, 2, -1, 0, 11])\n",
    "\n",
    "min_x_s = np.min(x_s)\n",
    "max_x_s = np.max(x_s)\n",
    "x = np.linspace(min_x_s, max_x_s, num=100)\n",
    "\n",
    "# coefficients = np.array([0, 1, 1, 4, 4, 1])\n",
    "# plt.plot(x, np.sum([(x ** i) * coefficients[i] for i in range(len(coefficients))], axis=0))\n",
    "# plt.scatter(x_s, y_s, c='red')\n",
    "# plt.show()\n",
    "# return\n",
    "\n",
    "# x_s = np.append(np.append(x_s.reshape(-1, 1) ** 2, x_s.reshape(-1, 1), axis=1), np.ones(shape=(len(x_s), 1)),\n",
    "#                 axis=1)\n",
    "x_s = x_s.reshape(-1, 1)\n",
    "y_s = y_s.reshape(-1, 1)\n",
    "\n",
    "new_population = initial_population()\n",
    "last_quality = 1_000_000\n",
    "\n",
    "for iteration in range(10_000):\n",
    "    parents = select_mating_pool(new_population, x_s, y_s, num_parents)\n",
    "    best = parents[0]\n",
    "    best_quality = fitness_function(x_s, y_s, best)\n",
    "    if iteration and iteration % 1_000 == 0:\n",
    "#     if best_quality < last_quality:\n",
    "        print('Error : ', best_quality, ', Iteration : ', iteration, ', Weights : ',\n",
    "                best)\n",
    "        last_quality = best_quality\n",
    "    new_population = crossover(parents)\n",
    "    new_population = mutation(new_population, num_parents)"
   ]
  },
  {
   "cell_type": "code",
   "execution_count": 4,
   "metadata": {},
   "outputs": [
    {
     "data": {
      "image/png": "[encoded data removed]",
      "text/plain": [
       "<Figure size 432x288 with 1 Axes>"
      ]
     },
     "metadata": {
      "needs_background": "light"
     },
     "output_type": "display_data"
    }
   ],
   "source": [
    "plt.scatter(x_s, y_s, c='red')\n",
    "plt.plot(x, np.sum([(x ** i) * best[i] for i in range(len(best))], axis=0))\n",
    "plt.show()"
   ]
  }
 ],
 "metadata": {
  "kernelspec": {
   "display_name": "Python 3",
   "language": "python",
   "name": "python3"
  },
  "language_info": {
   "codemirror_mode": {
    "name": "ipython",
    "version": 3
   },
   "file_extension": ".py",
   "mimetype": "text/x-python",
   "name": "python",
   "nbconvert_exporter": "python",
   "pygments_lexer": "ipython3",
   "version": "3.8.0"
  }
 },
 "nbformat": 4,
 "nbformat_minor": 2
}
